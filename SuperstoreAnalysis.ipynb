{
 "cells": [
  {
   "attachments": {},
   "cell_type": "markdown",
   "metadata": {},
   "source": [
    "# Superstore Analysis and Projections\n",
    "\n",
    "Author: Prabaningrum Hendraswari Buditjahjono & Ferry M. Suhendra"
   ]
  },
  {
   "attachments": {},
   "cell_type": "markdown",
   "metadata": {},
   "source": [
    "### Introduction\n",
    "\n",
    "Obtained from [Kaggle](https://www.kaggle.com/datasets/rohitsahoo/sales-forecasting), this dataset contains what is assumed to be retail data from an unnamed global superstore in a span of 4 years. This dataframe contains 18 features/columns that are self explanatory. \n",
    "\n",
    "Superstores are by definition retail locations that aim to be a one-stop shop and have a store area more than 80.000 square feet. In managing a superstore, a company might be faced with a lot of problems. Some were exacerbated by the growing number of competitors. A few of these issues include finding out what the customers want from the store and trying to retain existing customers. An analysis of the store's data is required to address the issues. As a result, from this dataset, we want to:\n",
    "\n",
    "1. Determine when is the period with the most orders\n",
    "\n",
    "2. Determine what shipping mode is mostly used\n",
    "\n",
    "3. Determine which State/County bought the most items \n",
    "\n",
    "4. Determine which categories are bought most\n",
    "\n",
    "5. Identify certain interesting patterns\n",
    "\n",
    "6. Forecast which items will have an increase in trends in the next 3 months."
   ]
  },
  {
   "attachments": {},
   "cell_type": "markdown",
   "metadata": {},
   "source": [
    "### Import Libraries"
   ]
  },
  {
   "cell_type": "code",
   "execution_count": 84,
   "metadata": {},
   "outputs": [],
   "source": [
    "import pandas as pd\n",
    "import numpy as np\n",
    "import seaborn as sns\n",
    "import matplotlib.pyplot as plt\n",
    "import matplotlib as mpl\n",
    "from feature_engine.outliers import Winsorizer\n",
    "\n",
    "import datetime\n",
    "import warnings\n",
    "warnings.filterwarnings('ignore')"
   ]
  },
  {
   "attachments": {},
   "cell_type": "markdown",
   "metadata": {},
   "source": [
    "### Data Loading"
   ]
  },
  {
   "cell_type": "code",
   "execution_count": 85,
   "metadata": {},
   "outputs": [
    {
     "data": {
      "text/html": [
       "<div>\n",
       "<style scoped>\n",
       "    .dataframe tbody tr th:only-of-type {\n",
       "        vertical-align: middle;\n",
       "    }\n",
       "\n",
       "    .dataframe tbody tr th {\n",
       "        vertical-align: top;\n",
       "    }\n",
       "\n",
       "    .dataframe thead th {\n",
       "        text-align: right;\n",
       "    }\n",
       "</style>\n",
       "<table border=\"1\" class=\"dataframe\">\n",
       "  <thead>\n",
       "    <tr style=\"text-align: right;\">\n",
       "      <th></th>\n",
       "      <th>Row ID</th>\n",
       "      <th>Order ID</th>\n",
       "      <th>Order Date</th>\n",
       "      <th>Ship Date</th>\n",
       "      <th>Ship Mode</th>\n",
       "      <th>Customer ID</th>\n",
       "      <th>Customer Name</th>\n",
       "      <th>Segment</th>\n",
       "      <th>Country</th>\n",
       "      <th>City</th>\n",
       "      <th>State</th>\n",
       "      <th>Postal Code</th>\n",
       "      <th>Region</th>\n",
       "      <th>Product ID</th>\n",
       "      <th>Category</th>\n",
       "      <th>Sub-Category</th>\n",
       "      <th>Product Name</th>\n",
       "      <th>Sales</th>\n",
       "    </tr>\n",
       "  </thead>\n",
       "  <tbody>\n",
       "    <tr>\n",
       "      <th>0</th>\n",
       "      <td>1</td>\n",
       "      <td>CA-2017-152156</td>\n",
       "      <td>08/11/2017</td>\n",
       "      <td>11/11/2017</td>\n",
       "      <td>Second Class</td>\n",
       "      <td>CG-12520</td>\n",
       "      <td>Claire Gute</td>\n",
       "      <td>Consumer</td>\n",
       "      <td>United States</td>\n",
       "      <td>Henderson</td>\n",
       "      <td>Kentucky</td>\n",
       "      <td>42420.0</td>\n",
       "      <td>South</td>\n",
       "      <td>FUR-BO-10001798</td>\n",
       "      <td>Furniture</td>\n",
       "      <td>Bookcases</td>\n",
       "      <td>Bush Somerset Collection Bookcase</td>\n",
       "      <td>261.9600</td>\n",
       "    </tr>\n",
       "    <tr>\n",
       "      <th>1</th>\n",
       "      <td>2</td>\n",
       "      <td>CA-2017-152156</td>\n",
       "      <td>08/11/2017</td>\n",
       "      <td>11/11/2017</td>\n",
       "      <td>Second Class</td>\n",
       "      <td>CG-12520</td>\n",
       "      <td>Claire Gute</td>\n",
       "      <td>Consumer</td>\n",
       "      <td>United States</td>\n",
       "      <td>Henderson</td>\n",
       "      <td>Kentucky</td>\n",
       "      <td>42420.0</td>\n",
       "      <td>South</td>\n",
       "      <td>FUR-CH-10000454</td>\n",
       "      <td>Furniture</td>\n",
       "      <td>Chairs</td>\n",
       "      <td>Hon Deluxe Fabric Upholstered Stacking Chairs,...</td>\n",
       "      <td>731.9400</td>\n",
       "    </tr>\n",
       "    <tr>\n",
       "      <th>2</th>\n",
       "      <td>3</td>\n",
       "      <td>CA-2017-138688</td>\n",
       "      <td>12/06/2017</td>\n",
       "      <td>16/06/2017</td>\n",
       "      <td>Second Class</td>\n",
       "      <td>DV-13045</td>\n",
       "      <td>Darrin Van Huff</td>\n",
       "      <td>Corporate</td>\n",
       "      <td>United States</td>\n",
       "      <td>Los Angeles</td>\n",
       "      <td>California</td>\n",
       "      <td>90036.0</td>\n",
       "      <td>West</td>\n",
       "      <td>OFF-LA-10000240</td>\n",
       "      <td>Office Supplies</td>\n",
       "      <td>Labels</td>\n",
       "      <td>Self-Adhesive Address Labels for Typewriters b...</td>\n",
       "      <td>14.6200</td>\n",
       "    </tr>\n",
       "    <tr>\n",
       "      <th>3</th>\n",
       "      <td>4</td>\n",
       "      <td>US-2016-108966</td>\n",
       "      <td>11/10/2016</td>\n",
       "      <td>18/10/2016</td>\n",
       "      <td>Standard Class</td>\n",
       "      <td>SO-20335</td>\n",
       "      <td>Sean O'Donnell</td>\n",
       "      <td>Consumer</td>\n",
       "      <td>United States</td>\n",
       "      <td>Fort Lauderdale</td>\n",
       "      <td>Florida</td>\n",
       "      <td>33311.0</td>\n",
       "      <td>South</td>\n",
       "      <td>FUR-TA-10000577</td>\n",
       "      <td>Furniture</td>\n",
       "      <td>Tables</td>\n",
       "      <td>Bretford CR4500 Series Slim Rectangular Table</td>\n",
       "      <td>957.5775</td>\n",
       "    </tr>\n",
       "    <tr>\n",
       "      <th>4</th>\n",
       "      <td>5</td>\n",
       "      <td>US-2016-108966</td>\n",
       "      <td>11/10/2016</td>\n",
       "      <td>18/10/2016</td>\n",
       "      <td>Standard Class</td>\n",
       "      <td>SO-20335</td>\n",
       "      <td>Sean O'Donnell</td>\n",
       "      <td>Consumer</td>\n",
       "      <td>United States</td>\n",
       "      <td>Fort Lauderdale</td>\n",
       "      <td>Florida</td>\n",
       "      <td>33311.0</td>\n",
       "      <td>South</td>\n",
       "      <td>OFF-ST-10000760</td>\n",
       "      <td>Office Supplies</td>\n",
       "      <td>Storage</td>\n",
       "      <td>Eldon Fold 'N Roll Cart System</td>\n",
       "      <td>22.3680</td>\n",
       "    </tr>\n",
       "  </tbody>\n",
       "</table>\n",
       "</div>"
      ],
      "text/plain": [
       "   Row ID        Order ID  Order Date   Ship Date       Ship Mode Customer ID  \\\n",
       "0       1  CA-2017-152156  08/11/2017  11/11/2017    Second Class    CG-12520   \n",
       "1       2  CA-2017-152156  08/11/2017  11/11/2017    Second Class    CG-12520   \n",
       "2       3  CA-2017-138688  12/06/2017  16/06/2017    Second Class    DV-13045   \n",
       "3       4  US-2016-108966  11/10/2016  18/10/2016  Standard Class    SO-20335   \n",
       "4       5  US-2016-108966  11/10/2016  18/10/2016  Standard Class    SO-20335   \n",
       "\n",
       "     Customer Name    Segment        Country             City       State  \\\n",
       "0      Claire Gute   Consumer  United States        Henderson    Kentucky   \n",
       "1      Claire Gute   Consumer  United States        Henderson    Kentucky   \n",
       "2  Darrin Van Huff  Corporate  United States      Los Angeles  California   \n",
       "3   Sean O'Donnell   Consumer  United States  Fort Lauderdale     Florida   \n",
       "4   Sean O'Donnell   Consumer  United States  Fort Lauderdale     Florida   \n",
       "\n",
       "   Postal Code Region       Product ID         Category Sub-Category  \\\n",
       "0      42420.0  South  FUR-BO-10001798        Furniture    Bookcases   \n",
       "1      42420.0  South  FUR-CH-10000454        Furniture       Chairs   \n",
       "2      90036.0   West  OFF-LA-10000240  Office Supplies       Labels   \n",
       "3      33311.0  South  FUR-TA-10000577        Furniture       Tables   \n",
       "4      33311.0  South  OFF-ST-10000760  Office Supplies      Storage   \n",
       "\n",
       "                                        Product Name     Sales  \n",
       "0                  Bush Somerset Collection Bookcase  261.9600  \n",
       "1  Hon Deluxe Fabric Upholstered Stacking Chairs,...  731.9400  \n",
       "2  Self-Adhesive Address Labels for Typewriters b...   14.6200  \n",
       "3      Bretford CR4500 Series Slim Rectangular Table  957.5775  \n",
       "4                     Eldon Fold 'N Roll Cart System   22.3680  "
      ]
     },
     "execution_count": 85,
     "metadata": {},
     "output_type": "execute_result"
    }
   ],
   "source": [
    "df = pd.read_csv('SuperstoreData.csv')\n",
    "df.head()"
   ]
  },
  {
   "attachments": {},
   "cell_type": "markdown",
   "metadata": {},
   "source": [
    "Are the orders only from the US? if so, we can get rid of the country column."
   ]
  },
  {
   "cell_type": "code",
   "execution_count": 86,
   "metadata": {},
   "outputs": [
    {
     "data": {
      "text/plain": [
       "United States    9800\n",
       "Name: Country, dtype: int64"
      ]
     },
     "execution_count": 86,
     "metadata": {},
     "output_type": "execute_result"
    }
   ],
   "source": [
    "df['Country'].value_counts()"
   ]
  },
  {
   "cell_type": "code",
   "execution_count": 87,
   "metadata": {},
   "outputs": [],
   "source": [
    "#Dropping unimportant columns\n",
    "df.drop(['Row ID', 'Country'], axis=1, inplace=True)"
   ]
  },
  {
   "cell_type": "code",
   "execution_count": 88,
   "metadata": {},
   "outputs": [
    {
     "name": "stdout",
     "output_type": "stream",
     "text": [
      "<class 'pandas.core.frame.DataFrame'>\n",
      "RangeIndex: 9800 entries, 0 to 9799\n",
      "Data columns (total 16 columns):\n",
      " #   Column         Non-Null Count  Dtype  \n",
      "---  ------         --------------  -----  \n",
      " 0   Order ID       9800 non-null   object \n",
      " 1   Order Date     9800 non-null   object \n",
      " 2   Ship Date      9800 non-null   object \n",
      " 3   Ship Mode      9800 non-null   object \n",
      " 4   Customer ID    9800 non-null   object \n",
      " 5   Customer Name  9800 non-null   object \n",
      " 6   Segment        9800 non-null   object \n",
      " 7   City           9800 non-null   object \n",
      " 8   State          9800 non-null   object \n",
      " 9   Postal Code    9789 non-null   float64\n",
      " 10  Region         9800 non-null   object \n",
      " 11  Product ID     9800 non-null   object \n",
      " 12  Category       9800 non-null   object \n",
      " 13  Sub-Category   9800 non-null   object \n",
      " 14  Product Name   9800 non-null   object \n",
      " 15  Sales          9800 non-null   float64\n",
      "dtypes: float64(2), object(14)\n",
      "memory usage: 1.2+ MB\n"
     ]
    }
   ],
   "source": [
    "df.info()"
   ]
  },
  {
   "attachments": {},
   "cell_type": "markdown",
   "metadata": {},
   "source": [
    "There are missing values in the postal code. Not a big deal, but it becomes a question on how the package gets delivered in the first place."
   ]
  },
  {
   "cell_type": "code",
   "execution_count": 89,
   "metadata": {},
   "outputs": [
    {
     "name": "stdout",
     "output_type": "stream",
     "text": [
      "<class 'pandas.core.frame.DataFrame'>\n",
      "RangeIndex: 9800 entries, 0 to 9799\n",
      "Data columns (total 16 columns):\n",
      " #   Column         Non-Null Count  Dtype  \n",
      "---  ------         --------------  -----  \n",
      " 0   Order ID       9800 non-null   object \n",
      " 1   Order Date     9800 non-null   object \n",
      " 2   Ship Date      9800 non-null   object \n",
      " 3   Ship Mode      9800 non-null   object \n",
      " 4   Customer ID    9800 non-null   object \n",
      " 5   Customer Name  9800 non-null   object \n",
      " 6   Segment        9800 non-null   object \n",
      " 7   City           9800 non-null   object \n",
      " 8   State          9800 non-null   object \n",
      " 9   Postal Code    9800 non-null   int32  \n",
      " 10  Region         9800 non-null   object \n",
      " 11  Product ID     9800 non-null   object \n",
      " 12  Category       9800 non-null   object \n",
      " 13  Sub-Category   9800 non-null   object \n",
      " 14  Product Name   9800 non-null   object \n",
      " 15  Sales          9800 non-null   float64\n",
      "dtypes: float64(1), int32(1), object(14)\n",
      "memory usage: 1.2+ MB\n"
     ]
    }
   ],
   "source": [
    "#Handling missing values\n",
    "df.fillna(0,inplace= True)\n",
    "# converting 'Postal Code' from float to int\n",
    "df['Postal Code'] = df['Postal Code'].astype(int)\n",
    "df.info()"
   ]
  },
  {
   "attachments": {},
   "cell_type": "markdown",
   "metadata": {},
   "source": [
    "### Exploratory Data Analysis"
   ]
  },
  {
   "cell_type": "code",
   "execution_count": 90,
   "metadata": {},
   "outputs": [
    {
     "data": {
      "text/html": [
       "<div>\n",
       "<style scoped>\n",
       "    .dataframe tbody tr th:only-of-type {\n",
       "        vertical-align: middle;\n",
       "    }\n",
       "\n",
       "    .dataframe tbody tr th {\n",
       "        vertical-align: top;\n",
       "    }\n",
       "\n",
       "    .dataframe thead th {\n",
       "        text-align: right;\n",
       "    }\n",
       "</style>\n",
       "<table border=\"1\" class=\"dataframe\">\n",
       "  <thead>\n",
       "    <tr style=\"text-align: right;\">\n",
       "      <th></th>\n",
       "      <th>count</th>\n",
       "      <th>mean</th>\n",
       "      <th>std</th>\n",
       "      <th>min</th>\n",
       "      <th>25%</th>\n",
       "      <th>50%</th>\n",
       "      <th>75%</th>\n",
       "      <th>max</th>\n",
       "    </tr>\n",
       "  </thead>\n",
       "  <tbody>\n",
       "    <tr>\n",
       "      <th>Postal Code</th>\n",
       "      <td>9800.0</td>\n",
       "      <td>55211.280918</td>\n",
       "      <td>32076.677954</td>\n",
       "      <td>0.000</td>\n",
       "      <td>23223.000</td>\n",
       "      <td>57551.00</td>\n",
       "      <td>90008.000</td>\n",
       "      <td>99301.00</td>\n",
       "    </tr>\n",
       "    <tr>\n",
       "      <th>Sales</th>\n",
       "      <td>9800.0</td>\n",
       "      <td>230.769059</td>\n",
       "      <td>626.651875</td>\n",
       "      <td>0.444</td>\n",
       "      <td>17.248</td>\n",
       "      <td>54.49</td>\n",
       "      <td>210.605</td>\n",
       "      <td>22638.48</td>\n",
       "    </tr>\n",
       "  </tbody>\n",
       "</table>\n",
       "</div>"
      ],
      "text/plain": [
       "              count          mean           std    min        25%       50%  \\\n",
       "Postal Code  9800.0  55211.280918  32076.677954  0.000  23223.000  57551.00   \n",
       "Sales        9800.0    230.769059    626.651875  0.444     17.248     54.49   \n",
       "\n",
       "                   75%       max  \n",
       "Postal Code  90008.000  99301.00  \n",
       "Sales          210.605  22638.48  "
      ]
     },
     "execution_count": 90,
     "metadata": {},
     "output_type": "execute_result"
    }
   ],
   "source": [
    "df.describe().T"
   ]
  },
  {
   "cell_type": "code",
   "execution_count": 91,
   "metadata": {},
   "outputs": [
    {
     "data": {
      "text/html": [
       "<div>\n",
       "<style scoped>\n",
       "    .dataframe tbody tr th:only-of-type {\n",
       "        vertical-align: middle;\n",
       "    }\n",
       "\n",
       "    .dataframe tbody tr th {\n",
       "        vertical-align: top;\n",
       "    }\n",
       "\n",
       "    .dataframe thead th {\n",
       "        text-align: right;\n",
       "    }\n",
       "</style>\n",
       "<table border=\"1\" class=\"dataframe\">\n",
       "  <thead>\n",
       "    <tr style=\"text-align: right;\">\n",
       "      <th></th>\n",
       "      <th>Order ID</th>\n",
       "      <th>Order Date</th>\n",
       "      <th>Ship Date</th>\n",
       "      <th>Ship Mode</th>\n",
       "      <th>Customer ID</th>\n",
       "      <th>Customer Name</th>\n",
       "      <th>Segment</th>\n",
       "      <th>City</th>\n",
       "      <th>State</th>\n",
       "      <th>Postal Code</th>\n",
       "      <th>Region</th>\n",
       "      <th>Product ID</th>\n",
       "      <th>Category</th>\n",
       "      <th>Sub-Category</th>\n",
       "      <th>Product Name</th>\n",
       "      <th>Sales</th>\n",
       "    </tr>\n",
       "  </thead>\n",
       "  <tbody>\n",
       "    <tr>\n",
       "      <th>2234</th>\n",
       "      <td>CA-2018-104066</td>\n",
       "      <td>05/12/2018</td>\n",
       "      <td>10/12/2018</td>\n",
       "      <td>Standard Class</td>\n",
       "      <td>QJ-19255</td>\n",
       "      <td>Quincy Jones</td>\n",
       "      <td>Corporate</td>\n",
       "      <td>Burlington</td>\n",
       "      <td>Vermont</td>\n",
       "      <td>0</td>\n",
       "      <td>East</td>\n",
       "      <td>TEC-AC-10001013</td>\n",
       "      <td>Technology</td>\n",
       "      <td>Accessories</td>\n",
       "      <td>Logitech ClearChat Comfort/USB Headset H390</td>\n",
       "      <td>205.03</td>\n",
       "    </tr>\n",
       "    <tr>\n",
       "      <th>5274</th>\n",
       "      <td>CA-2016-162887</td>\n",
       "      <td>07/11/2016</td>\n",
       "      <td>09/11/2016</td>\n",
       "      <td>Second Class</td>\n",
       "      <td>SV-20785</td>\n",
       "      <td>Stewart Visinsky</td>\n",
       "      <td>Consumer</td>\n",
       "      <td>Burlington</td>\n",
       "      <td>Vermont</td>\n",
       "      <td>0</td>\n",
       "      <td>East</td>\n",
       "      <td>FUR-CH-10000595</td>\n",
       "      <td>Furniture</td>\n",
       "      <td>Chairs</td>\n",
       "      <td>Safco Contoured Stacking Chairs</td>\n",
       "      <td>715.20</td>\n",
       "    </tr>\n",
       "    <tr>\n",
       "      <th>8798</th>\n",
       "      <td>US-2017-150140</td>\n",
       "      <td>06/04/2017</td>\n",
       "      <td>10/04/2017</td>\n",
       "      <td>Standard Class</td>\n",
       "      <td>VM-21685</td>\n",
       "      <td>Valerie Mitchum</td>\n",
       "      <td>Home Office</td>\n",
       "      <td>Burlington</td>\n",
       "      <td>Vermont</td>\n",
       "      <td>0</td>\n",
       "      <td>East</td>\n",
       "      <td>TEC-PH-10002555</td>\n",
       "      <td>Technology</td>\n",
       "      <td>Phones</td>\n",
       "      <td>Nortel Meridian M5316 Digital phone</td>\n",
       "      <td>1294.75</td>\n",
       "    </tr>\n",
       "    <tr>\n",
       "      <th>9146</th>\n",
       "      <td>US-2017-165505</td>\n",
       "      <td>23/01/2017</td>\n",
       "      <td>27/01/2017</td>\n",
       "      <td>Standard Class</td>\n",
       "      <td>CB-12535</td>\n",
       "      <td>Claudia Bergmann</td>\n",
       "      <td>Corporate</td>\n",
       "      <td>Burlington</td>\n",
       "      <td>Vermont</td>\n",
       "      <td>0</td>\n",
       "      <td>East</td>\n",
       "      <td>TEC-AC-10002926</td>\n",
       "      <td>Technology</td>\n",
       "      <td>Accessories</td>\n",
       "      <td>Logitech Wireless Marathon Mouse M705</td>\n",
       "      <td>99.98</td>\n",
       "    </tr>\n",
       "    <tr>\n",
       "      <th>9147</th>\n",
       "      <td>US-2017-165505</td>\n",
       "      <td>23/01/2017</td>\n",
       "      <td>27/01/2017</td>\n",
       "      <td>Standard Class</td>\n",
       "      <td>CB-12535</td>\n",
       "      <td>Claudia Bergmann</td>\n",
       "      <td>Corporate</td>\n",
       "      <td>Burlington</td>\n",
       "      <td>Vermont</td>\n",
       "      <td>0</td>\n",
       "      <td>East</td>\n",
       "      <td>OFF-AR-10003477</td>\n",
       "      <td>Office Supplies</td>\n",
       "      <td>Art</td>\n",
       "      <td>4009 Highlighters</td>\n",
       "      <td>8.04</td>\n",
       "    </tr>\n",
       "    <tr>\n",
       "      <th>9148</th>\n",
       "      <td>US-2017-165505</td>\n",
       "      <td>23/01/2017</td>\n",
       "      <td>27/01/2017</td>\n",
       "      <td>Standard Class</td>\n",
       "      <td>CB-12535</td>\n",
       "      <td>Claudia Bergmann</td>\n",
       "      <td>Corporate</td>\n",
       "      <td>Burlington</td>\n",
       "      <td>Vermont</td>\n",
       "      <td>0</td>\n",
       "      <td>East</td>\n",
       "      <td>OFF-ST-10001526</td>\n",
       "      <td>Office Supplies</td>\n",
       "      <td>Storage</td>\n",
       "      <td>Iceberg Mobile Mega Data/Printer Cart</td>\n",
       "      <td>1564.29</td>\n",
       "    </tr>\n",
       "    <tr>\n",
       "      <th>9386</th>\n",
       "      <td>US-2018-127292</td>\n",
       "      <td>19/01/2018</td>\n",
       "      <td>23/01/2018</td>\n",
       "      <td>Standard Class</td>\n",
       "      <td>RM-19375</td>\n",
       "      <td>Raymond Messe</td>\n",
       "      <td>Consumer</td>\n",
       "      <td>Burlington</td>\n",
       "      <td>Vermont</td>\n",
       "      <td>0</td>\n",
       "      <td>East</td>\n",
       "      <td>OFF-PA-10000157</td>\n",
       "      <td>Office Supplies</td>\n",
       "      <td>Paper</td>\n",
       "      <td>Xerox 191</td>\n",
       "      <td>79.92</td>\n",
       "    </tr>\n",
       "    <tr>\n",
       "      <th>9387</th>\n",
       "      <td>US-2018-127292</td>\n",
       "      <td>19/01/2018</td>\n",
       "      <td>23/01/2018</td>\n",
       "      <td>Standard Class</td>\n",
       "      <td>RM-19375</td>\n",
       "      <td>Raymond Messe</td>\n",
       "      <td>Consumer</td>\n",
       "      <td>Burlington</td>\n",
       "      <td>Vermont</td>\n",
       "      <td>0</td>\n",
       "      <td>East</td>\n",
       "      <td>OFF-PA-10001970</td>\n",
       "      <td>Office Supplies</td>\n",
       "      <td>Paper</td>\n",
       "      <td>Xerox 1881</td>\n",
       "      <td>12.28</td>\n",
       "    </tr>\n",
       "    <tr>\n",
       "      <th>9388</th>\n",
       "      <td>US-2018-127292</td>\n",
       "      <td>19/01/2018</td>\n",
       "      <td>23/01/2018</td>\n",
       "      <td>Standard Class</td>\n",
       "      <td>RM-19375</td>\n",
       "      <td>Raymond Messe</td>\n",
       "      <td>Consumer</td>\n",
       "      <td>Burlington</td>\n",
       "      <td>Vermont</td>\n",
       "      <td>0</td>\n",
       "      <td>East</td>\n",
       "      <td>OFF-AP-10000828</td>\n",
       "      <td>Office Supplies</td>\n",
       "      <td>Appliances</td>\n",
       "      <td>Avanti 4.4 Cu. Ft. Refrigerator</td>\n",
       "      <td>542.94</td>\n",
       "    </tr>\n",
       "    <tr>\n",
       "      <th>9389</th>\n",
       "      <td>US-2018-127292</td>\n",
       "      <td>19/01/2018</td>\n",
       "      <td>23/01/2018</td>\n",
       "      <td>Standard Class</td>\n",
       "      <td>RM-19375</td>\n",
       "      <td>Raymond Messe</td>\n",
       "      <td>Consumer</td>\n",
       "      <td>Burlington</td>\n",
       "      <td>Vermont</td>\n",
       "      <td>0</td>\n",
       "      <td>East</td>\n",
       "      <td>OFF-EN-10001509</td>\n",
       "      <td>Office Supplies</td>\n",
       "      <td>Envelopes</td>\n",
       "      <td>Poly String Tie Envelopes</td>\n",
       "      <td>2.04</td>\n",
       "    </tr>\n",
       "    <tr>\n",
       "      <th>9741</th>\n",
       "      <td>CA-2016-117086</td>\n",
       "      <td>08/11/2016</td>\n",
       "      <td>12/11/2016</td>\n",
       "      <td>Standard Class</td>\n",
       "      <td>QJ-19255</td>\n",
       "      <td>Quincy Jones</td>\n",
       "      <td>Corporate</td>\n",
       "      <td>Burlington</td>\n",
       "      <td>Vermont</td>\n",
       "      <td>0</td>\n",
       "      <td>East</td>\n",
       "      <td>FUR-BO-10004834</td>\n",
       "      <td>Furniture</td>\n",
       "      <td>Bookcases</td>\n",
       "      <td>Riverside Palais Royal Lawyers Bookcase, Royal...</td>\n",
       "      <td>4404.90</td>\n",
       "    </tr>\n",
       "  </tbody>\n",
       "</table>\n",
       "</div>"
      ],
      "text/plain": [
       "            Order ID  Order Date   Ship Date       Ship Mode Customer ID  \\\n",
       "2234  CA-2018-104066  05/12/2018  10/12/2018  Standard Class    QJ-19255   \n",
       "5274  CA-2016-162887  07/11/2016  09/11/2016    Second Class    SV-20785   \n",
       "8798  US-2017-150140  06/04/2017  10/04/2017  Standard Class    VM-21685   \n",
       "9146  US-2017-165505  23/01/2017  27/01/2017  Standard Class    CB-12535   \n",
       "9147  US-2017-165505  23/01/2017  27/01/2017  Standard Class    CB-12535   \n",
       "9148  US-2017-165505  23/01/2017  27/01/2017  Standard Class    CB-12535   \n",
       "9386  US-2018-127292  19/01/2018  23/01/2018  Standard Class    RM-19375   \n",
       "9387  US-2018-127292  19/01/2018  23/01/2018  Standard Class    RM-19375   \n",
       "9388  US-2018-127292  19/01/2018  23/01/2018  Standard Class    RM-19375   \n",
       "9389  US-2018-127292  19/01/2018  23/01/2018  Standard Class    RM-19375   \n",
       "9741  CA-2016-117086  08/11/2016  12/11/2016  Standard Class    QJ-19255   \n",
       "\n",
       "         Customer Name      Segment        City    State  Postal Code Region  \\\n",
       "2234      Quincy Jones    Corporate  Burlington  Vermont            0   East   \n",
       "5274  Stewart Visinsky     Consumer  Burlington  Vermont            0   East   \n",
       "8798   Valerie Mitchum  Home Office  Burlington  Vermont            0   East   \n",
       "9146  Claudia Bergmann    Corporate  Burlington  Vermont            0   East   \n",
       "9147  Claudia Bergmann    Corporate  Burlington  Vermont            0   East   \n",
       "9148  Claudia Bergmann    Corporate  Burlington  Vermont            0   East   \n",
       "9386     Raymond Messe     Consumer  Burlington  Vermont            0   East   \n",
       "9387     Raymond Messe     Consumer  Burlington  Vermont            0   East   \n",
       "9388     Raymond Messe     Consumer  Burlington  Vermont            0   East   \n",
       "9389     Raymond Messe     Consumer  Burlington  Vermont            0   East   \n",
       "9741      Quincy Jones    Corporate  Burlington  Vermont            0   East   \n",
       "\n",
       "           Product ID         Category Sub-Category  \\\n",
       "2234  TEC-AC-10001013       Technology  Accessories   \n",
       "5274  FUR-CH-10000595        Furniture       Chairs   \n",
       "8798  TEC-PH-10002555       Technology       Phones   \n",
       "9146  TEC-AC-10002926       Technology  Accessories   \n",
       "9147  OFF-AR-10003477  Office Supplies          Art   \n",
       "9148  OFF-ST-10001526  Office Supplies      Storage   \n",
       "9386  OFF-PA-10000157  Office Supplies        Paper   \n",
       "9387  OFF-PA-10001970  Office Supplies        Paper   \n",
       "9388  OFF-AP-10000828  Office Supplies   Appliances   \n",
       "9389  OFF-EN-10001509  Office Supplies    Envelopes   \n",
       "9741  FUR-BO-10004834        Furniture    Bookcases   \n",
       "\n",
       "                                           Product Name    Sales  \n",
       "2234        Logitech ClearChat Comfort/USB Headset H390   205.03  \n",
       "5274                    Safco Contoured Stacking Chairs   715.20  \n",
       "8798                Nortel Meridian M5316 Digital phone  1294.75  \n",
       "9146              Logitech Wireless Marathon Mouse M705    99.98  \n",
       "9147                                  4009 Highlighters     8.04  \n",
       "9148              Iceberg Mobile Mega Data/Printer Cart  1564.29  \n",
       "9386                                          Xerox 191    79.92  \n",
       "9387                                         Xerox 1881    12.28  \n",
       "9388                    Avanti 4.4 Cu. Ft. Refrigerator   542.94  \n",
       "9389                          Poly String Tie Envelopes     2.04  \n",
       "9741  Riverside Palais Royal Lawyers Bookcase, Royal...  4404.90  "
      ]
     },
     "execution_count": 91,
     "metadata": {},
     "output_type": "execute_result"
    }
   ],
   "source": [
    "df[df['Postal Code'] == 0]"
   ]
  },
  {
   "attachments": {},
   "cell_type": "markdown",
   "metadata": {},
   "source": [
    "There seems to be no way of knowing whether the package is delivered or not, because shipping doesn't mean it's received by the customer."
   ]
  },
  {
   "attachments": {},
   "cell_type": "markdown",
   "metadata": {},
   "source": [
    "There appears to be purchases of orders under 1$, this may be worth looking into to make sure its not an error."
   ]
  },
  {
   "cell_type": "code",
   "execution_count": 92,
   "metadata": {},
   "outputs": [
    {
     "data": {
      "text/html": [
       "<div>\n",
       "<style scoped>\n",
       "    .dataframe tbody tr th:only-of-type {\n",
       "        vertical-align: middle;\n",
       "    }\n",
       "\n",
       "    .dataframe tbody tr th {\n",
       "        vertical-align: top;\n",
       "    }\n",
       "\n",
       "    .dataframe thead th {\n",
       "        text-align: right;\n",
       "    }\n",
       "</style>\n",
       "<table border=\"1\" class=\"dataframe\">\n",
       "  <thead>\n",
       "    <tr style=\"text-align: right;\">\n",
       "      <th></th>\n",
       "      <th>Order ID</th>\n",
       "      <th>Order Date</th>\n",
       "      <th>Ship Date</th>\n",
       "      <th>Ship Mode</th>\n",
       "      <th>Customer ID</th>\n",
       "      <th>Customer Name</th>\n",
       "      <th>Segment</th>\n",
       "      <th>City</th>\n",
       "      <th>State</th>\n",
       "      <th>Postal Code</th>\n",
       "      <th>Region</th>\n",
       "      <th>Product ID</th>\n",
       "      <th>Category</th>\n",
       "      <th>Sub-Category</th>\n",
       "      <th>Product Name</th>\n",
       "      <th>Sales</th>\n",
       "    </tr>\n",
       "  </thead>\n",
       "  <tbody>\n",
       "    <tr>\n",
       "      <th>2106</th>\n",
       "      <td>US-2015-152723</td>\n",
       "      <td>26/09/2015</td>\n",
       "      <td>26/09/2015</td>\n",
       "      <td>Same Day</td>\n",
       "      <td>HG-14965</td>\n",
       "      <td>Henry Goldwyn</td>\n",
       "      <td>Corporate</td>\n",
       "      <td>Mesquite</td>\n",
       "      <td>Texas</td>\n",
       "      <td>75150</td>\n",
       "      <td>Central</td>\n",
       "      <td>OFF-BI-10003460</td>\n",
       "      <td>Office Supplies</td>\n",
       "      <td>Binders</td>\n",
       "      <td>Acco 3-Hole Punch</td>\n",
       "      <td>0.876</td>\n",
       "    </tr>\n",
       "    <tr>\n",
       "      <th>2761</th>\n",
       "      <td>CA-2018-126536</td>\n",
       "      <td>12/10/2018</td>\n",
       "      <td>14/10/2018</td>\n",
       "      <td>First Class</td>\n",
       "      <td>NK-18490</td>\n",
       "      <td>Neil Knudson</td>\n",
       "      <td>Home Office</td>\n",
       "      <td>San Francisco</td>\n",
       "      <td>California</td>\n",
       "      <td>94110</td>\n",
       "      <td>West</td>\n",
       "      <td>TEC-AC-10003709</td>\n",
       "      <td>Technology</td>\n",
       "      <td>Accessories</td>\n",
       "      <td>Maxell 4.7GB DVD-R 5/Pack</td>\n",
       "      <td>0.990</td>\n",
       "    </tr>\n",
       "    <tr>\n",
       "      <th>4101</th>\n",
       "      <td>US-2018-102288</td>\n",
       "      <td>19/06/2018</td>\n",
       "      <td>23/06/2018</td>\n",
       "      <td>Standard Class</td>\n",
       "      <td>ZC-21910</td>\n",
       "      <td>Zuschuss Carroll</td>\n",
       "      <td>Consumer</td>\n",
       "      <td>Houston</td>\n",
       "      <td>Texas</td>\n",
       "      <td>77095</td>\n",
       "      <td>Central</td>\n",
       "      <td>OFF-AP-10002906</td>\n",
       "      <td>Office Supplies</td>\n",
       "      <td>Appliances</td>\n",
       "      <td>Hoover Replacement Belt for Commercial Guardsm...</td>\n",
       "      <td>0.444</td>\n",
       "    </tr>\n",
       "    <tr>\n",
       "      <th>4711</th>\n",
       "      <td>CA-2015-112403</td>\n",
       "      <td>31/03/2015</td>\n",
       "      <td>31/03/2015</td>\n",
       "      <td>Same Day</td>\n",
       "      <td>JO-15280</td>\n",
       "      <td>Jas O'Carroll</td>\n",
       "      <td>Consumer</td>\n",
       "      <td>Philadelphia</td>\n",
       "      <td>Pennsylvania</td>\n",
       "      <td>19120</td>\n",
       "      <td>East</td>\n",
       "      <td>OFF-BI-10003529</td>\n",
       "      <td>Office Supplies</td>\n",
       "      <td>Binders</td>\n",
       "      <td>Avery Round Ring Poly Binders</td>\n",
       "      <td>0.852</td>\n",
       "    </tr>\n",
       "    <tr>\n",
       "      <th>7548</th>\n",
       "      <td>CA-2015-103492</td>\n",
       "      <td>10/10/2015</td>\n",
       "      <td>15/10/2015</td>\n",
       "      <td>Standard Class</td>\n",
       "      <td>CM-12715</td>\n",
       "      <td>Craig Molinari</td>\n",
       "      <td>Corporate</td>\n",
       "      <td>Huntsville</td>\n",
       "      <td>Texas</td>\n",
       "      <td>77340</td>\n",
       "      <td>Central</td>\n",
       "      <td>OFF-BI-10004140</td>\n",
       "      <td>Office Supplies</td>\n",
       "      <td>Binders</td>\n",
       "      <td>Avery Non-Stick Binders</td>\n",
       "      <td>0.898</td>\n",
       "    </tr>\n",
       "    <tr>\n",
       "      <th>8033</th>\n",
       "      <td>CA-2016-119690</td>\n",
       "      <td>25/06/2016</td>\n",
       "      <td>28/06/2016</td>\n",
       "      <td>First Class</td>\n",
       "      <td>MV-17485</td>\n",
       "      <td>Mark Van Huff</td>\n",
       "      <td>Consumer</td>\n",
       "      <td>Houston</td>\n",
       "      <td>Texas</td>\n",
       "      <td>77041</td>\n",
       "      <td>Central</td>\n",
       "      <td>OFF-BI-10000201</td>\n",
       "      <td>Office Supplies</td>\n",
       "      <td>Binders</td>\n",
       "      <td>Avery Triangle Shaped Sheet Lifters, Black, 2/...</td>\n",
       "      <td>0.984</td>\n",
       "    </tr>\n",
       "    <tr>\n",
       "      <th>8658</th>\n",
       "      <td>CA-2017-168361</td>\n",
       "      <td>21/06/2017</td>\n",
       "      <td>25/06/2017</td>\n",
       "      <td>Standard Class</td>\n",
       "      <td>KB-16600</td>\n",
       "      <td>Ken Brennan</td>\n",
       "      <td>Corporate</td>\n",
       "      <td>Chicago</td>\n",
       "      <td>Illinois</td>\n",
       "      <td>60623</td>\n",
       "      <td>Central</td>\n",
       "      <td>OFF-BI-10003727</td>\n",
       "      <td>Office Supplies</td>\n",
       "      <td>Binders</td>\n",
       "      <td>Avery Durable Slant Ring Binders With Label Ho...</td>\n",
       "      <td>0.836</td>\n",
       "    </tr>\n",
       "    <tr>\n",
       "      <th>9292</th>\n",
       "      <td>CA-2018-124114</td>\n",
       "      <td>02/03/2018</td>\n",
       "      <td>02/03/2018</td>\n",
       "      <td>Same Day</td>\n",
       "      <td>RS-19765</td>\n",
       "      <td>Roland Schwarz</td>\n",
       "      <td>Corporate</td>\n",
       "      <td>Waco</td>\n",
       "      <td>Texas</td>\n",
       "      <td>76706</td>\n",
       "      <td>Central</td>\n",
       "      <td>OFF-BI-10004022</td>\n",
       "      <td>Office Supplies</td>\n",
       "      <td>Binders</td>\n",
       "      <td>Acco Suede Grain Vinyl Round Ring Binder</td>\n",
       "      <td>0.556</td>\n",
       "    </tr>\n",
       "  </tbody>\n",
       "</table>\n",
       "</div>"
      ],
      "text/plain": [
       "            Order ID  Order Date   Ship Date       Ship Mode Customer ID  \\\n",
       "2106  US-2015-152723  26/09/2015  26/09/2015        Same Day    HG-14965   \n",
       "2761  CA-2018-126536  12/10/2018  14/10/2018     First Class    NK-18490   \n",
       "4101  US-2018-102288  19/06/2018  23/06/2018  Standard Class    ZC-21910   \n",
       "4711  CA-2015-112403  31/03/2015  31/03/2015        Same Day    JO-15280   \n",
       "7548  CA-2015-103492  10/10/2015  15/10/2015  Standard Class    CM-12715   \n",
       "8033  CA-2016-119690  25/06/2016  28/06/2016     First Class    MV-17485   \n",
       "8658  CA-2017-168361  21/06/2017  25/06/2017  Standard Class    KB-16600   \n",
       "9292  CA-2018-124114  02/03/2018  02/03/2018        Same Day    RS-19765   \n",
       "\n",
       "         Customer Name      Segment           City         State  Postal Code  \\\n",
       "2106     Henry Goldwyn    Corporate       Mesquite         Texas        75150   \n",
       "2761      Neil Knudson  Home Office  San Francisco    California        94110   \n",
       "4101  Zuschuss Carroll     Consumer        Houston         Texas        77095   \n",
       "4711     Jas O'Carroll     Consumer   Philadelphia  Pennsylvania        19120   \n",
       "7548    Craig Molinari    Corporate     Huntsville         Texas        77340   \n",
       "8033     Mark Van Huff     Consumer        Houston         Texas        77041   \n",
       "8658       Ken Brennan    Corporate        Chicago      Illinois        60623   \n",
       "9292    Roland Schwarz    Corporate           Waco         Texas        76706   \n",
       "\n",
       "       Region       Product ID         Category Sub-Category  \\\n",
       "2106  Central  OFF-BI-10003460  Office Supplies      Binders   \n",
       "2761     West  TEC-AC-10003709       Technology  Accessories   \n",
       "4101  Central  OFF-AP-10002906  Office Supplies   Appliances   \n",
       "4711     East  OFF-BI-10003529  Office Supplies      Binders   \n",
       "7548  Central  OFF-BI-10004140  Office Supplies      Binders   \n",
       "8033  Central  OFF-BI-10000201  Office Supplies      Binders   \n",
       "8658  Central  OFF-BI-10003727  Office Supplies      Binders   \n",
       "9292  Central  OFF-BI-10004022  Office Supplies      Binders   \n",
       "\n",
       "                                           Product Name  Sales  \n",
       "2106                                  Acco 3-Hole Punch  0.876  \n",
       "2761                          Maxell 4.7GB DVD-R 5/Pack  0.990  \n",
       "4101  Hoover Replacement Belt for Commercial Guardsm...  0.444  \n",
       "4711                      Avery Round Ring Poly Binders  0.852  \n",
       "7548                            Avery Non-Stick Binders  0.898  \n",
       "8033  Avery Triangle Shaped Sheet Lifters, Black, 2/...  0.984  \n",
       "8658  Avery Durable Slant Ring Binders With Label Ho...  0.836  \n",
       "9292           Acco Suede Grain Vinyl Round Ring Binder  0.556  "
      ]
     },
     "execution_count": 92,
     "metadata": {},
     "output_type": "execute_result"
    }
   ],
   "source": [
    "df[df['Sales'] < 1]"
   ]
  },
  {
   "attachments": {},
   "cell_type": "markdown",
   "metadata": {},
   "source": [
    "Assuming that the shipping mode is faster the higher the class, there doesn't seem to be significant patterns in the order under $1 except that most of them seem to be needed quickly as 5 out of 8 of the customers picked Same day or First class shipping mode."
   ]
  },
  {
   "cell_type": "code",
   "execution_count": 93,
   "metadata": {},
   "outputs": [],
   "source": [
    "df['Order Date']=pd.to_datetime(df['Order Date'])\n",
    "df['Ship Date']=pd.to_datetime(df['Ship Date'])"
   ]
  },
  {
   "cell_type": "code",
   "execution_count": 94,
   "metadata": {},
   "outputs": [
    {
     "name": "stdout",
     "output_type": "stream",
     "text": [
      "<class 'pandas.core.frame.DataFrame'>\n",
      "RangeIndex: 9800 entries, 0 to 9799\n",
      "Data columns (total 16 columns):\n",
      " #   Column         Non-Null Count  Dtype         \n",
      "---  ------         --------------  -----         \n",
      " 0   Order ID       9800 non-null   object        \n",
      " 1   Order Date     9800 non-null   datetime64[ns]\n",
      " 2   Ship Date      9800 non-null   datetime64[ns]\n",
      " 3   Ship Mode      9800 non-null   object        \n",
      " 4   Customer ID    9800 non-null   object        \n",
      " 5   Customer Name  9800 non-null   object        \n",
      " 6   Segment        9800 non-null   object        \n",
      " 7   City           9800 non-null   object        \n",
      " 8   State          9800 non-null   object        \n",
      " 9   Postal Code    9800 non-null   int32         \n",
      " 10  Region         9800 non-null   object        \n",
      " 11  Product ID     9800 non-null   object        \n",
      " 12  Category       9800 non-null   object        \n",
      " 13  Sub-Category   9800 non-null   object        \n",
      " 14  Product Name   9800 non-null   object        \n",
      " 15  Sales          9800 non-null   float64       \n",
      "dtypes: datetime64[ns](2), float64(1), int32(1), object(12)\n",
      "memory usage: 1.2+ MB\n"
     ]
    }
   ],
   "source": [
    "df.info()"
   ]
  },
  {
   "cell_type": "code",
   "execution_count": 95,
   "metadata": {},
   "outputs": [
    {
     "name": "stdout",
     "output_type": "stream",
     "text": [
      "2015-01-02 00:00:00\n",
      "2018-12-30 00:00:00\n",
      "2015-01-04 00:00:00\n",
      "2019-05-01 00:00:00\n"
     ]
    }
   ],
   "source": [
    "print(df['Order Date'].min())\n",
    "print(df['Order Date'].max())\n",
    "print(df['Ship Date'].min())\n",
    "print(df['Ship Date'].max())"
   ]
  },
  {
   "attachments": {},
   "cell_type": "markdown",
   "metadata": {},
   "source": [
    "There is a gap between last order & last shipping. Why? Is it the same order?\n",
    "\n",
    "What is the average shipping time (from order to shipping)?"
   ]
  },
  {
   "cell_type": "code",
   "execution_count": 106,
   "metadata": {},
   "outputs": [
    {
     "data": {
      "text/html": [
       "<div>\n",
       "<style scoped>\n",
       "    .dataframe tbody tr th:only-of-type {\n",
       "        vertical-align: middle;\n",
       "    }\n",
       "\n",
       "    .dataframe tbody tr th {\n",
       "        vertical-align: top;\n",
       "    }\n",
       "\n",
       "    .dataframe thead th {\n",
       "        text-align: right;\n",
       "    }\n",
       "</style>\n",
       "<table border=\"1\" class=\"dataframe\">\n",
       "  <thead>\n",
       "    <tr style=\"text-align: right;\">\n",
       "      <th></th>\n",
       "      <th>Order ID</th>\n",
       "      <th>Order Date</th>\n",
       "      <th>Ship Date</th>\n",
       "      <th>Ship Mode</th>\n",
       "      <th>Customer ID</th>\n",
       "      <th>Customer Name</th>\n",
       "      <th>Segment</th>\n",
       "      <th>City</th>\n",
       "      <th>State</th>\n",
       "      <th>Postal Code</th>\n",
       "      <th>Region</th>\n",
       "      <th>Product ID</th>\n",
       "      <th>Category</th>\n",
       "      <th>Sub-Category</th>\n",
       "      <th>Product Name</th>\n",
       "      <th>Sales</th>\n",
       "    </tr>\n",
       "  </thead>\n",
       "  <tbody>\n",
       "    <tr>\n",
       "      <th>645</th>\n",
       "      <td>CA-2018-126221</td>\n",
       "      <td>2018-12-30</td>\n",
       "      <td>2019-05-01</td>\n",
       "      <td>Standard Class</td>\n",
       "      <td>CC-12430</td>\n",
       "      <td>Chuck Clark</td>\n",
       "      <td>Home Office</td>\n",
       "      <td>Columbus</td>\n",
       "      <td>Indiana</td>\n",
       "      <td>47201</td>\n",
       "      <td>Central</td>\n",
       "      <td>OFF-AP-10002457</td>\n",
       "      <td>Office Supplies</td>\n",
       "      <td>Appliances</td>\n",
       "      <td>Eureka The Boss Plus 12-Amp Hard Box Upright V...</td>\n",
       "      <td>209.300</td>\n",
       "    </tr>\n",
       "    <tr>\n",
       "      <th>906</th>\n",
       "      <td>CA-2018-143259</td>\n",
       "      <td>2018-12-30</td>\n",
       "      <td>2019-03-01</td>\n",
       "      <td>Standard Class</td>\n",
       "      <td>PO-18865</td>\n",
       "      <td>Patrick O'Donnell</td>\n",
       "      <td>Consumer</td>\n",
       "      <td>New York City</td>\n",
       "      <td>New York</td>\n",
       "      <td>10009</td>\n",
       "      <td>East</td>\n",
       "      <td>FUR-BO-10003441</td>\n",
       "      <td>Furniture</td>\n",
       "      <td>Bookcases</td>\n",
       "      <td>Bush Westfield Collection Bookcases, Fully Ass...</td>\n",
       "      <td>323.136</td>\n",
       "    </tr>\n",
       "    <tr>\n",
       "      <th>907</th>\n",
       "      <td>CA-2018-143259</td>\n",
       "      <td>2018-12-30</td>\n",
       "      <td>2019-03-01</td>\n",
       "      <td>Standard Class</td>\n",
       "      <td>PO-18865</td>\n",
       "      <td>Patrick O'Donnell</td>\n",
       "      <td>Consumer</td>\n",
       "      <td>New York City</td>\n",
       "      <td>New York</td>\n",
       "      <td>10009</td>\n",
       "      <td>East</td>\n",
       "      <td>TEC-PH-10004774</td>\n",
       "      <td>Technology</td>\n",
       "      <td>Phones</td>\n",
       "      <td>Gear Head AU3700S Headset</td>\n",
       "      <td>90.930</td>\n",
       "    </tr>\n",
       "    <tr>\n",
       "      <th>908</th>\n",
       "      <td>CA-2018-143259</td>\n",
       "      <td>2018-12-30</td>\n",
       "      <td>2019-03-01</td>\n",
       "      <td>Standard Class</td>\n",
       "      <td>PO-18865</td>\n",
       "      <td>Patrick O'Donnell</td>\n",
       "      <td>Consumer</td>\n",
       "      <td>New York City</td>\n",
       "      <td>New York</td>\n",
       "      <td>10009</td>\n",
       "      <td>East</td>\n",
       "      <td>OFF-BI-10003684</td>\n",
       "      <td>Office Supplies</td>\n",
       "      <td>Binders</td>\n",
       "      <td>Wilson Jones Legal Size Ring Binders</td>\n",
       "      <td>52.776</td>\n",
       "    </tr>\n",
       "    <tr>\n",
       "      <th>1296</th>\n",
       "      <td>CA-2018-115427</td>\n",
       "      <td>2018-12-30</td>\n",
       "      <td>2019-03-01</td>\n",
       "      <td>Standard Class</td>\n",
       "      <td>EB-13975</td>\n",
       "      <td>Erica Bern</td>\n",
       "      <td>Corporate</td>\n",
       "      <td>Fairfield</td>\n",
       "      <td>California</td>\n",
       "      <td>94533</td>\n",
       "      <td>West</td>\n",
       "      <td>OFF-BI-10002103</td>\n",
       "      <td>Office Supplies</td>\n",
       "      <td>Binders</td>\n",
       "      <td>Cardinal Slant-D Ring Binder, Heavy Gauge Vinyl</td>\n",
       "      <td>13.904</td>\n",
       "    </tr>\n",
       "    <tr>\n",
       "      <th>1297</th>\n",
       "      <td>CA-2018-115427</td>\n",
       "      <td>2018-12-30</td>\n",
       "      <td>2019-03-01</td>\n",
       "      <td>Standard Class</td>\n",
       "      <td>EB-13975</td>\n",
       "      <td>Erica Bern</td>\n",
       "      <td>Corporate</td>\n",
       "      <td>Fairfield</td>\n",
       "      <td>California</td>\n",
       "      <td>94533</td>\n",
       "      <td>West</td>\n",
       "      <td>OFF-BI-10004632</td>\n",
       "      <td>Office Supplies</td>\n",
       "      <td>Binders</td>\n",
       "      <td>GBC Binding covers</td>\n",
       "      <td>20.720</td>\n",
       "    </tr>\n",
       "    <tr>\n",
       "      <th>5091</th>\n",
       "      <td>CA-2018-156720</td>\n",
       "      <td>2018-12-30</td>\n",
       "      <td>2019-03-01</td>\n",
       "      <td>Standard Class</td>\n",
       "      <td>JM-15580</td>\n",
       "      <td>Jill Matthias</td>\n",
       "      <td>Consumer</td>\n",
       "      <td>Loveland</td>\n",
       "      <td>Colorado</td>\n",
       "      <td>80538</td>\n",
       "      <td>West</td>\n",
       "      <td>OFF-FA-10003472</td>\n",
       "      <td>Office Supplies</td>\n",
       "      <td>Fasteners</td>\n",
       "      <td>Bagged Rubber Bands</td>\n",
       "      <td>3.024</td>\n",
       "    </tr>\n",
       "  </tbody>\n",
       "</table>\n",
       "</div>"
      ],
      "text/plain": [
       "            Order ID Order Date  Ship Date       Ship Mode Customer ID  \\\n",
       "645   CA-2018-126221 2018-12-30 2019-05-01  Standard Class    CC-12430   \n",
       "906   CA-2018-143259 2018-12-30 2019-03-01  Standard Class    PO-18865   \n",
       "907   CA-2018-143259 2018-12-30 2019-03-01  Standard Class    PO-18865   \n",
       "908   CA-2018-143259 2018-12-30 2019-03-01  Standard Class    PO-18865   \n",
       "1296  CA-2018-115427 2018-12-30 2019-03-01  Standard Class    EB-13975   \n",
       "1297  CA-2018-115427 2018-12-30 2019-03-01  Standard Class    EB-13975   \n",
       "5091  CA-2018-156720 2018-12-30 2019-03-01  Standard Class    JM-15580   \n",
       "\n",
       "          Customer Name      Segment           City       State  Postal Code  \\\n",
       "645         Chuck Clark  Home Office       Columbus     Indiana        47201   \n",
       "906   Patrick O'Donnell     Consumer  New York City    New York        10009   \n",
       "907   Patrick O'Donnell     Consumer  New York City    New York        10009   \n",
       "908   Patrick O'Donnell     Consumer  New York City    New York        10009   \n",
       "1296         Erica Bern    Corporate      Fairfield  California        94533   \n",
       "1297         Erica Bern    Corporate      Fairfield  California        94533   \n",
       "5091      Jill Matthias     Consumer       Loveland    Colorado        80538   \n",
       "\n",
       "       Region       Product ID         Category Sub-Category  \\\n",
       "645   Central  OFF-AP-10002457  Office Supplies   Appliances   \n",
       "906      East  FUR-BO-10003441        Furniture    Bookcases   \n",
       "907      East  TEC-PH-10004774       Technology       Phones   \n",
       "908      East  OFF-BI-10003684  Office Supplies      Binders   \n",
       "1296     West  OFF-BI-10002103  Office Supplies      Binders   \n",
       "1297     West  OFF-BI-10004632  Office Supplies      Binders   \n",
       "5091     West  OFF-FA-10003472  Office Supplies    Fasteners   \n",
       "\n",
       "                                           Product Name    Sales  \n",
       "645   Eureka The Boss Plus 12-Amp Hard Box Upright V...  209.300  \n",
       "906   Bush Westfield Collection Bookcases, Fully Ass...  323.136  \n",
       "907                           Gear Head AU3700S Headset   90.930  \n",
       "908                Wilson Jones Legal Size Ring Binders   52.776  \n",
       "1296    Cardinal Slant-D Ring Binder, Heavy Gauge Vinyl   13.904  \n",
       "1297                                 GBC Binding covers   20.720  \n",
       "5091                                Bagged Rubber Bands    3.024  "
      ]
     },
     "execution_count": 106,
     "metadata": {},
     "output_type": "execute_result"
    }
   ],
   "source": [
    "df[df['Order Date'] == '2018-12-30 00:00:00']"
   ]
  },
  {
   "cell_type": "code",
   "execution_count": 107,
   "metadata": {},
   "outputs": [
    {
     "data": {
      "text/html": [
       "<div>\n",
       "<style scoped>\n",
       "    .dataframe tbody tr th:only-of-type {\n",
       "        vertical-align: middle;\n",
       "    }\n",
       "\n",
       "    .dataframe tbody tr th {\n",
       "        vertical-align: top;\n",
       "    }\n",
       "\n",
       "    .dataframe thead th {\n",
       "        text-align: right;\n",
       "    }\n",
       "</style>\n",
       "<table border=\"1\" class=\"dataframe\">\n",
       "  <thead>\n",
       "    <tr style=\"text-align: right;\">\n",
       "      <th></th>\n",
       "      <th>Order ID</th>\n",
       "      <th>Order Date</th>\n",
       "      <th>Ship Date</th>\n",
       "      <th>Ship Mode</th>\n",
       "      <th>Customer ID</th>\n",
       "      <th>Customer Name</th>\n",
       "      <th>Segment</th>\n",
       "      <th>City</th>\n",
       "      <th>State</th>\n",
       "      <th>Postal Code</th>\n",
       "      <th>Region</th>\n",
       "      <th>Product ID</th>\n",
       "      <th>Category</th>\n",
       "      <th>Sub-Category</th>\n",
       "      <th>Product Name</th>\n",
       "      <th>Sales</th>\n",
       "    </tr>\n",
       "  </thead>\n",
       "  <tbody>\n",
       "    <tr>\n",
       "      <th>645</th>\n",
       "      <td>CA-2018-126221</td>\n",
       "      <td>2018-12-30</td>\n",
       "      <td>2019-05-01</td>\n",
       "      <td>Standard Class</td>\n",
       "      <td>CC-12430</td>\n",
       "      <td>Chuck Clark</td>\n",
       "      <td>Home Office</td>\n",
       "      <td>Columbus</td>\n",
       "      <td>Indiana</td>\n",
       "      <td>47201</td>\n",
       "      <td>Central</td>\n",
       "      <td>OFF-AP-10002457</td>\n",
       "      <td>Office Supplies</td>\n",
       "      <td>Appliances</td>\n",
       "      <td>Eureka The Boss Plus 12-Amp Hard Box Upright V...</td>\n",
       "      <td>209.30</td>\n",
       "    </tr>\n",
       "    <tr>\n",
       "      <th>5131</th>\n",
       "      <td>CA-2018-146626</td>\n",
       "      <td>2018-12-29</td>\n",
       "      <td>2019-05-01</td>\n",
       "      <td>Standard Class</td>\n",
       "      <td>BP-11185</td>\n",
       "      <td>Ben Peterman</td>\n",
       "      <td>Corporate</td>\n",
       "      <td>Anaheim</td>\n",
       "      <td>California</td>\n",
       "      <td>92804</td>\n",
       "      <td>West</td>\n",
       "      <td>FUR-FU-10002501</td>\n",
       "      <td>Furniture</td>\n",
       "      <td>Furnishings</td>\n",
       "      <td>Nu-Dell Executive Frame</td>\n",
       "      <td>101.12</td>\n",
       "    </tr>\n",
       "  </tbody>\n",
       "</table>\n",
       "</div>"
      ],
      "text/plain": [
       "            Order ID Order Date  Ship Date       Ship Mode Customer ID  \\\n",
       "645   CA-2018-126221 2018-12-30 2019-05-01  Standard Class    CC-12430   \n",
       "5131  CA-2018-146626 2018-12-29 2019-05-01  Standard Class    BP-11185   \n",
       "\n",
       "     Customer Name      Segment      City       State  Postal Code   Region  \\\n",
       "645    Chuck Clark  Home Office  Columbus     Indiana        47201  Central   \n",
       "5131  Ben Peterman    Corporate   Anaheim  California        92804     West   \n",
       "\n",
       "           Product ID         Category Sub-Category  \\\n",
       "645   OFF-AP-10002457  Office Supplies   Appliances   \n",
       "5131  FUR-FU-10002501        Furniture  Furnishings   \n",
       "\n",
       "                                           Product Name   Sales  \n",
       "645   Eureka The Boss Plus 12-Amp Hard Box Upright V...  209.30  \n",
       "5131                            Nu-Dell Executive Frame  101.12  "
      ]
     },
     "execution_count": 107,
     "metadata": {},
     "output_type": "execute_result"
    }
   ],
   "source": [
    "df[df['Ship Date'] == '2019-05-01 00:00:00']"
   ]
  },
  {
   "cell_type": "code",
   "execution_count": 96,
   "metadata": {},
   "outputs": [],
   "source": [
    "# defining plot function\n",
    "def plot_dist(df, col):\n",
    "    fig, axes = plt.subplots(ncols = 2, figsize = (15, 5))\n",
    "    \n",
    "    # histogram\n",
    "    sns.histplot(df[col],ax = axes[0], bins=30)\n",
    "    axes[0].set_title(f\"Histogram '{col}'\")\n",
    "    axes[0].axvline(df[col].mean(), color = 'red', linestyle = 'dashed', label = 'mean')\n",
    "    axes[0].axvline(df[col].median(), color = 'green', linestyle = 'dashed', label = 'median')\n",
    "    axes[0].legend()\n",
    "    \n",
    "    # boxplot\n",
    "    sns.boxplot(y=df[col], ax =  axes[1])\n",
    "    axes[1].set_title(f\"Boxplot '{col}'\")\n",
    "    \n",
    "    plt.show()\n",
    "    \n",
    "    # skewness\n",
    "    print(df[col].name + ' Kurtosis: ' + str(df[col].kurt()))\n",
    "    print(df[col].name + ' Skewness: ' + str(df[col].skew()))\n",
    "    if -0.5 <= df[col].skew() <= 0.5:\n",
    "        print(\"Columns '{}' normal distribution\".format(col))\n",
    "    elif df[col].skew() > 0.5:\n",
    "        print(\"Columns '{}' right skewed\".format(col))\n",
    "    elif df[col].skew() < -0.5:\n",
    "        print(\"Columns '{}' left skewed\".format(col))"
   ]
  },
  {
   "cell_type": "code",
   "execution_count": 97,
   "metadata": {},
   "outputs": [
    {
     "data": {
      "image/png": "[encoded data removed]",
      "text/plain": [
       "<Figure size 1080x360 with 2 Axes>"
      ]
     },
     "metadata": {
      "needs_background": "light"
     },
     "output_type": "display_data"
    },
    {
     "name": "stdout",
     "output_type": "stream",
     "text": [
      "Sales Kurtosis: 304.4450883210413\n",
      "Sales Skewness: 12.983482865034619\n",
      "Columns 'Sales' right skewed\n"
     ]
    }
   ],
   "source": [
    "# checking data distribution of sales\n",
    "plot_dist(df,'Sales')"
   ]
  },
  {
   "attachments": {},
   "cell_type": "markdown",
   "metadata": {},
   "source": [
    "There are outliers in the sales data. due to the low ammount of data to work with these outliers will be winsorized.\n"
   ]
  },
  {
   "cell_type": "code",
   "execution_count": 98,
   "metadata": {},
   "outputs": [],
   "source": [
    "# Capping sales using Winsorizer\n",
    "dfw = df\n",
    "winsorizer = Winsorizer(capping_method='iqr', tail='both', fold=3,variables=['Sales'])\n",
    "winsorizer.fit(dfw)\n",
    "dfw = winsorizer.transform(dfw)"
   ]
  },
  {
   "cell_type": "code",
   "execution_count": 99,
   "metadata": {},
   "outputs": [
    {
     "name": "stdout",
     "output_type": "stream",
     "text": [
      "            Sales\n",
      "Order Date       \n",
      "2018-09-30    382\n"
     ]
    },
    {
     "data": {
      "image/png": "[encoded data removed]",
      "text/plain": [
       "<Figure size 432x288 with 1 Axes>"
      ]
     },
     "metadata": {
      "needs_background": "light"
     },
     "output_type": "display_data"
    }
   ],
   "source": [
    "# Checking for month with most sales count\n",
    "dfn=dfw\n",
    "dfn.index=dfn['Order Date']\n",
    "dfns=pd.DataFrame(dfn.groupby(pd.Grouper(freq='M'))['Sales'].count())\n",
    "\n",
    "# Plotting counts\n",
    "sns.lineplot(x='Order Date',y='Sales',data=dfns)\n",
    "print(dfns[dfns['Sales']==dfns['Sales'].max()])"
   ]
  },
  {
   "attachments": {},
   "cell_type": "markdown",
   "metadata": {},
   "source": [
    "It's found that the highest sales count comes from the period of September 2018."
   ]
  },
  {
   "cell_type": "code",
   "execution_count": 100,
   "metadata": {},
   "outputs": [
    {
     "data": {
      "image/png": "[encoded data removed]",
      "text/plain": [
       "<Figure size 432x288 with 1 Axes>"
      ]
     },
     "metadata": {
      "needs_background": "light"
     },
     "output_type": "display_data"
    }
   ],
   "source": [
    "plt.subplot()\n",
    "sns.countplot(df['Ship Mode'])\n",
    "plt.show()"
   ]
  },
  {
   "attachments": {},
   "cell_type": "markdown",
   "metadata": {},
   "source": [
    "Most sales are delivered using the standard class delivery."
   ]
  },
  {
   "cell_type": "code",
   "execution_count": 101,
   "metadata": {},
   "outputs": [
    {
     "data": {
      "image/png": "[encoded data removed]",
      "text/plain": [
       "<Figure size 1440x864 with 1 Axes>"
      ]
     },
     "metadata": {
      "needs_background": "light"
     },
     "output_type": "display_data"
    }
   ],
   "source": [
    "# checking sales count by state\n",
    "plt.figure(figsize=(20, 12))\n",
    "sns.countplot(df['State'])\n",
    "plt.xticks(rotation=80)\n",
    "plt.show()"
   ]
  },
  {
   "attachments": {},
   "cell_type": "markdown",
   "metadata": {},
   "source": [
    "Most of the sales from the 4 years of recorded data comes from Callifornia followed by New York and Texas."
   ]
  },
  {
   "cell_type": "code",
   "execution_count": 109,
   "metadata": {},
   "outputs": [
    {
     "data": {
      "text/plain": [
       "Office Supplies    5909\n",
       "Furniture          2078\n",
       "Technology         1813\n",
       "Name: Category, dtype: int64"
      ]
     },
     "execution_count": 109,
     "metadata": {},
     "output_type": "execute_result"
    }
   ],
   "source": [
    "df['Category'].value_counts()"
   ]
  },
  {
   "cell_type": "code",
   "execution_count": 108,
   "metadata": {},
   "outputs": [
    {
     "data": {
      "image/png": "[encoded data removed]",
      "text/plain": [
       "<Figure size 1440x864 with 1 Axes>"
      ]
     },
     "metadata": {
      "needs_background": "light"
     },
     "output_type": "display_data"
    }
   ],
   "source": [
    "# checking sales count by category\n",
    "plt.figure(figsize=(20, 12))\n",
    "sns.countplot(df['Category'])\n",
    "plt.xticks(rotation=80)\n",
    "plt.show()"
   ]
  },
  {
   "cell_type": "code",
   "execution_count": 102,
   "metadata": {},
   "outputs": [
    {
     "data": {
      "text/html": [
       "<div>\n",
       "<style scoped>\n",
       "    .dataframe tbody tr th:only-of-type {\n",
       "        vertical-align: middle;\n",
       "    }\n",
       "\n",
       "    .dataframe tbody tr th {\n",
       "        vertical-align: top;\n",
       "    }\n",
       "\n",
       "    .dataframe thead th {\n",
       "        text-align: right;\n",
       "    }\n",
       "</style>\n",
       "<table border=\"1\" class=\"dataframe\">\n",
       "  <thead>\n",
       "    <tr style=\"text-align: right;\">\n",
       "      <th></th>\n",
       "      <th>Sales</th>\n",
       "    </tr>\n",
       "    <tr>\n",
       "      <th>Order Date</th>\n",
       "      <th></th>\n",
       "    </tr>\n",
       "  </thead>\n",
       "  <tbody>\n",
       "    <tr>\n",
       "      <th>2015-12-31</th>\n",
       "      <td>334461.0951</td>\n",
       "    </tr>\n",
       "    <tr>\n",
       "      <th>2016-12-31</th>\n",
       "      <td>352211.5939</td>\n",
       "    </tr>\n",
       "    <tr>\n",
       "      <th>2017-12-31</th>\n",
       "      <td>422274.6448</td>\n",
       "    </tr>\n",
       "    <tr>\n",
       "      <th>2018-12-31</th>\n",
       "      <td>521986.7627</td>\n",
       "    </tr>\n",
       "  </tbody>\n",
       "</table>\n",
       "</div>"
      ],
      "text/plain": [
       "                  Sales\n",
       "Order Date             \n",
       "2015-12-31  334461.0951\n",
       "2016-12-31  352211.5939\n",
       "2017-12-31  422274.6448\n",
       "2018-12-31  521986.7627"
      ]
     },
     "execution_count": 102,
     "metadata": {},
     "output_type": "execute_result"
    }
   ],
   "source": [
    "# Calculating yearly total sales\n",
    "dfm= dfw\n",
    "dfm.index=dfm['Order Date']\n",
    "dfms=pd.DataFrame(dfm.groupby(pd.Grouper(freq='Y'))['Sales'].sum())\n",
    "dfms"
   ]
  },
  {
   "cell_type": "code",
   "execution_count": 103,
   "metadata": {},
   "outputs": [
    {
     "data": {
      "image/png": "[encoded data removed]",
      "text/plain": [
       "<Figure size 432x288 with 1 Axes>"
      ]
     },
     "metadata": {
      "needs_background": "light"
     },
     "output_type": "display_data"
    }
   ],
   "source": [
    "# Plotting Yearly total sales.\n",
    "sns.lineplot(x='Order Date',y='Sales',data=dfms)\n",
    "plt.xticks(rotation=50)\n",
    "plt.show()"
   ]
  },
  {
   "attachments": {},
   "cell_type": "markdown",
   "metadata": {},
   "source": [
    "There has been a stable increase in total yearly sales every year."
   ]
  },
  {
   "cell_type": "code",
   "execution_count": 104,
   "metadata": {},
   "outputs": [],
   "source": [
    "# Separating data by year\n",
    "dfm15=dfm[dfm['Order Date'].dt.year==2015]\n",
    "dfm16=dfm[dfm['Order Date'].dt.year==2016]\n",
    "dfm17=dfm[dfm['Order Date'].dt.year==2017]\n",
    "dfm18=dfm[dfm['Order Date'].dt.year==2018]\n",
    "# Calculating monthly total sales\n",
    "dfm15=pd.DataFrame(dfm15.groupby(pd.Grouper(freq='M'))['Sales'].sum())\n",
    "dfm16=pd.DataFrame(dfm16.groupby(pd.Grouper(freq='M'))['Sales'].sum())\n",
    "dfm17=pd.DataFrame(dfm17.groupby(pd.Grouper(freq='M'))['Sales'].sum())\n",
    "dfm18=pd.DataFrame(dfm18.groupby(pd.Grouper(freq='M'))['Sales'].sum())"
   ]
  },
  {
   "cell_type": "code",
   "execution_count": 105,
   "metadata": {},
   "outputs": [
    {
     "data": {
      "image/png": "[encoded data removed]",
      "text/plain": [
       "<Figure size 432x288 with 1 Axes>"
      ]
     },
     "metadata": {
      "needs_background": "light"
     },
     "output_type": "display_data"
    },
    {
     "data": {
      "image/png": "[encoded data removed]",
      "text/plain": [
       "<Figure size 432x288 with 1 Axes>"
      ]
     },
     "metadata": {
      "needs_background": "light"
     },
     "output_type": "display_data"
    },
    {
     "data": {
      "image/png": "[encoded data removed]",
      "text/plain": [
       "<Figure size 432x288 with 1 Axes>"
      ]
     },
     "metadata": {
      "needs_background": "light"
     },
     "output_type": "display_data"
    },
    {
     "data": {
      "image/png": "[encoded data removed]",
      "text/plain": [
       "<Figure size 432x288 with 1 Axes>"
      ]
     },
     "metadata": {
      "needs_background": "light"
     },
     "output_type": "display_data"
    }
   ],
   "source": [
    "# Plotting monthly total sales by year.\n",
    "plt.title('2015')\n",
    "sns.lineplot(x='Order Date',y='Sales',data=dfm15)\n",
    "plt.xticks(rotation=50)\n",
    "plt.show()\n",
    "plt.title('2016')\n",
    "sns.lineplot(x='Order Date',y='Sales',data=dfm16)\n",
    "plt.xticks(rotation=50)\n",
    "plt.show()\n",
    "plt.title('2017')\n",
    "sns.lineplot(x='Order Date',y='Sales',data=dfm17)\n",
    "plt.xticks(rotation=50)\n",
    "plt.show()\n",
    "plt.title('2018')\n",
    "sns.lineplot(x='Order Date',y='Sales',data=dfm18)\n",
    "plt.xticks(rotation=50)\n",
    "plt.show()"
   ]
  },
  {
   "attachments": {},
   "cell_type": "markdown",
   "metadata": {},
   "source": []
  },
  {
   "attachments": {},
   "cell_type": "markdown",
   "metadata": {},
   "source": [
    "### Data Preprocessing"
   ]
  }
 ],
 "metadata": {
  "kernelspec": {
   "display_name": "base",
   "language": "python",
   "name": "python3"
  },
  "language_info": {
   "codemirror_mode": {
    "name": "ipython",
    "version": 3
   },
   "file_extension": ".py",
   "mimetype": "text/x-python",
   "name": "python",
   "nbconvert_exporter": "python",
   "pygments_lexer": "ipython3",
   "version": "3.9.12"
  },
  "orig_nbformat": 4,
  "vscode": {
   "interpreter": {
    "hash": "2b4d7b9a044dfafd283ac5e998378fc233f274b1ac169120ad58a77e18bcfdd3"
   }
  }
 },
 "nbformat": 4,
 "nbformat_minor": 2
}
